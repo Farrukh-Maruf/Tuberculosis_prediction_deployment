{
 "cells": [
  {
   "cell_type": "code",
   "execution_count": 13,
   "id": "337de297",
   "metadata": {},
   "outputs": [
    {
     "name": "stdout",
     "output_type": "stream",
     "text": [
      "Overwriting ml_app.py\n"
     ]
    }
   ],
   "source": [
    "%%writefile ml_app.py\n",
    "\n",
    "import streamlit as st\n",
    "import tensorflow as tf\n",
    "from tensorflow.keras.models import load_model\n",
    "from tensorflow.keras.preprocessing import image\n",
    "import numpy as np\n",
    "\n",
    "# Load the trained model\n",
    "model = load_model('my_model.h5')\n",
    "\n",
    "st.title('Tuberculosis classification deployment')\n",
    "\n",
    "# Upload image through Streamlit\n",
    "uploaded_image = st.file_uploader('Choose an image...', type=['jpg', 'png'])\n",
    "\n",
    "if uploaded_image is not None:\n",
    "    # Preprocess the image for the model\n",
    "    img = image.load_img(uploaded_image, target_size=(28, 28))\n",
    "    img_array = image.img_to_array(img)\n",
    "    img_array = np.expand_dims(img_array, axis=0)\n",
    "    img_array /= 255.0  # Normalize\n",
    "\n",
    "    # Make prediction\n",
    "    prediction = model.predict(img_array)\n",
    "\n",
    "    \n",
    "    if np.argmax(prediction) > 0.5:\n",
    "        class_name = 'Tuberculosis is Positive'\n",
    "    else:\n",
    "        class_name = 'Tuberculosis is Negetive'\n",
    "\n",
    "    # Display the uploaded image\n",
    "    st.image(img, caption='Uploaded Image', use_column_width=True)\n",
    "\n",
    "    # Display the prediction\n",
    "    st.write('Prediction:', class_name)\n"
   ]
  },
  {
   "cell_type": "code",
   "execution_count": null,
   "id": "78be4d6c",
   "metadata": {},
   "outputs": [],
   "source": [
    "!streamlit run ml_app.py"
   ]
  },
  {
   "cell_type": "code",
   "execution_count": null,
   "id": "3b3d2cba",
   "metadata": {},
   "outputs": [],
   "source": []
  }
 ],
 "metadata": {
  "kernelspec": {
   "display_name": "Python 3 (ipykernel)",
   "language": "python",
   "name": "python3"
  },
  "language_info": {
   "codemirror_mode": {
    "name": "ipython",
    "version": 3
   },
   "file_extension": ".py",
   "mimetype": "text/x-python",
   "name": "python",
   "nbconvert_exporter": "python",
   "pygments_lexer": "ipython3",
   "version": "3.9.17"
  }
 },
 "nbformat": 4,
 "nbformat_minor": 5
}
